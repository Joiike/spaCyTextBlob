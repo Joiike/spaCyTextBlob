{
 "cells": [
  {
   "cell_type": "raw",
   "metadata": {},
   "source": [
    "---\n",
    "id: example\n",
    "title: Examples\n",
    "---"
   ]
  },
  {
   "cell_type": "markdown",
   "metadata": {},
   "source": [
    "## Using on a single text"
   ]
  },
  {
   "cell_type": "code",
   "execution_count": 1,
   "metadata": {},
   "outputs": [],
   "source": [
    "import spacy\n",
    "from spacytextblob.spacytextblob import SpacyTextBlob\n",
    "\n",
    "nlp = spacy.load('en_core_web_sm')\n",
    "spacy_text_blob = SpacyTextBlob()\n",
    "nlp.add_pipe(spacy_text_blob)\n",
    "\n",
    "text = \"I had a really horrible day. It was the worst day ever! But every now and then I have a really good day that makes me happy.\"\n",
    "doc = nlp(text)"
   ]
  },
  {
   "source": [
    "By adding the pipeline, a new  `._.sentiment` extension has been added to `Doc`, `Span`, and `Token` objects. This `._.sentiment` returns a named tuple just like the TextBlob library. You can assess specific details from the named tuple:\n",
    "- `.polarity`: a float within the range (-1.0, 1.0)\n",
    "- `.subjectivity`: a float within the range (0.0, 1.0) where 0.0 is very objective and 1.0 is very subjective\n",
    "- `.assessments`: a list of polarity and subjectivity scores for the assessed tokens."
   ],
   "cell_type": "markdown",
   "metadata": {}
  },
  {
   "cell_type": "code",
   "execution_count": 2,
   "metadata": {},
   "outputs": [
    {
     "output_type": "stream",
     "name": "stdout",
     "text": [
      "Sentiment(polarity=-0.125, subjectivity=0.9, assessments=[(['really', 'horrible'], -1.0, 1.0, None), (['worst', '!'], -1.0, 1.0, None), (['really', 'good'], 0.7, 0.6000000000000001, None), (['happy'], 0.8, 1.0, None)])\n"
     ]
    }
   ],
   "source": [
    "print(doc._.sentiment)"
   ]
  },
  {
   "cell_type": "code",
   "execution_count": 3,
   "metadata": {},
   "outputs": [
    {
     "output_type": "stream",
     "name": "stdout",
     "text": [
      "-0.125\n"
     ]
    }
   ],
   "source": [
    "print(doc._.sentiment.polarity)"
   ]
  },
  {
   "cell_type": "code",
   "execution_count": 4,
   "metadata": {},
   "outputs": [
    {
     "output_type": "stream",
     "name": "stdout",
     "text": [
      "0.9\n"
     ]
    }
   ],
   "source": [
    "print(doc._.sentiment.subjectivity)"
   ]
  },
  {
   "cell_type": "code",
   "execution_count": 5,
   "metadata": {},
   "outputs": [
    {
     "output_type": "stream",
     "name": "stdout",
     "text": [
      "[(['really', 'horrible'], -1.0, 1.0, None), (['worst', '!'], -1.0, 1.0, None), (['really', 'good'], 0.7, 0.6000000000000001, None), (['happy'], 0.8, 1.0, None)]\n"
     ]
    }
   ],
   "source": [
    "print(doc._.sentiment.assessments)"
   ]
  },
  {
   "cell_type": "markdown",
   "metadata": {},
   "source": [
    "You can identify the sentiment at the `Span` or `Token` level."
   ]
  },
  {
   "cell_type": "code",
   "execution_count": 6,
   "metadata": {},
   "outputs": [
    {
     "output_type": "stream",
     "name": "stdout",
     "text": [
      "I had a really horrible day. -1.0 1.0\nIt was the worst day ever! -1.0 1.0\nBut every now and then I have a really good day that makes me happy. 0.75 0.8\n"
     ]
    }
   ],
   "source": [
    "for span in doc.sents:\n",
    "    print(span.text, span._.sentiment.polarity, span._. sentiment.subjectivity)"
   ]
  },
  {
   "cell_type": "code",
   "execution_count": 7,
   "metadata": {},
   "outputs": [
    {
     "output_type": "stream",
     "name": "stdout",
     "text": [
      "I 0.0 0.0\nhad 0.0 0.0\na 0.0 0.0\nreally 0.2 0.2\nhorrible -1.0 1.0\nday 0.0 0.0\n. 0.0 0.0\nIt 0.0 0.0\nwas 0.0 0.0\nthe 0.0 0.0\nworst -1.0 1.0\nday 0.0 0.0\never 0.0 0.0\n! 0.0 0.0\nBut 0.0 0.0\nevery 0.0 0.0\nnow 0.0 0.0\nand 0.0 0.0\nthen 0.0 0.0\nI 0.0 0.0\nhave 0.0 0.0\na 0.0 0.0\nreally 0.2 0.2\ngood 0.7 0.6000000000000001\nday 0.0 0.0\nthat 0.0 0.0\nmakes 0.0 0.0\nme 0.0 0.0\nhappy 0.8 1.0\n. 0.0 0.0\n"
     ]
    }
   ],
   "source": [
    "for token in doc:\n",
    "    print(token.text, token._.sentiment.polarity, token._. sentiment.subjectivity)"
   ]
  },
  {
   "cell_type": "markdown",
   "metadata": {},
   "source": [
    "## Using on a multiple texts"
   ]
  },
  {
   "cell_type": "code",
   "execution_count": 8,
   "metadata": {},
   "outputs": [
    {
     "output_type": "stream",
     "name": "stdout",
     "text": [
      "================================================================\nI had a really horrible day. It was the worst day ever! But every now and then I have a really good day that makes me happy.\nPolarity: -0.125\nSujectivity: 0.9\nAssessments: [(['really', 'horrible'], -1.0, 1.0, None), (['worst', '!'], -1.0, 1.0, None), (['really', 'good'], 0.7, 0.6000000000000001, None), (['happy'], 0.8, 1.0, None)]\n================================================================\nWow I had just the best day ever today! I cannot wait to tell the world.\nPolarity: 0.55\nSujectivity: 0.65\nAssessments: [(['wow'], 0.1, 1.0, None), (['best', '!'], 1.0, 0.3, None)]\n"
     ]
    }
   ],
   "source": [
    "import spacy\n",
    "from spacytextblob.spacytextblob import SpacyTextBlob\n",
    "\n",
    "nlp = spacy.load('en_core_web_sm')\n",
    "spacy_text_blob = SpacyTextBlob()\n",
    "nlp.add_pipe(spacy_text_blob)\n",
    "\n",
    "text1 = \"I had a really horrible day. It was the worst day ever! But every now and then I have a really good day that makes me happy.\"\n",
    "text2 = \"Wow I had just the best day ever today! I cannot wait to tell the world.\"\n",
    "docs = list(nlp.pipe([text1, text2]))\n",
    "for doc in docs:\n",
    "    print('=' * 64)\n",
    "    print(doc.text)\n",
    "    print('Polarity:', doc._.sentiment.polarity)\n",
    "    print('Sujectivity:', doc._.sentiment.subjectivity)\n",
    "    print('Assessments:', doc._.sentiment.assessments)"
   ]
  }
 ],
 "metadata": {
  "kernelspec": {
   "display_name": "Python 3",
   "language": "python",
   "name": "python3"
  },
  "language_info": {
   "codemirror_mode": {
    "name": "ipython",
    "version": 3
   },
   "file_extension": ".py",
   "mimetype": "text/x-python",
   "name": "python",
   "nbconvert_exporter": "python",
   "pygments_lexer": "ipython3",
   "version": "3.8.5-final"
  }
 },
 "nbformat": 4,
 "nbformat_minor": 4
}