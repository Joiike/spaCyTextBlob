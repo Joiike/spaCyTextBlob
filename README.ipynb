{
 "cells": [
  {
   "cell_type": "markdown",
   "metadata": {},
   "source": [
    "# spaCyTextBlob\n",
    "\n",
    "A TextBlob sentiment analysis pipeline compponent for spaCy.\n",
    "\n",
    "**Repo**: [https://github.com/SamEdwardes/spaCyTextBlob](https://github.com/SamEdwardes/spaCyTextBlob)<br>\n",
    "**PyPi**: [https://pypi.org/project/spacytextblob/](https://pypi.org/project/spacytextblob/)\n",
    "\n",
    "## Table of Contents\n",
    "\n",
    "- [Install](#install)\n",
    "- [Usage](#usage)\n",
    "    - [How to load the package in spaCy pipeline](#how-to-load-the-package-in-spaCy-pipeline)\n",
    "    - [How to use the pipeline](#how-to-use-the-pipeline)\n",
    "- [API](#api)\n",
    "- [Reference and Attribution](#reference-and-attribution)"
   ]
  },
  {
   "cell_type": "markdown",
   "metadata": {},
   "source": [
    "## Install\n",
    "\n",
    "Install spaCyTextBlob from pypi.\n",
    "\n",
    "```bash\n",
    "pip install spacytextblob\n",
    "```\n",
    "\n",
    "TextBlob also requires some data to be downloaded before getting started.\n",
    "\n",
    "```bash\n",
    "python -m textblob.download_corpora\n",
    "```"
   ]
  },
  {
   "cell_type": "markdown",
   "metadata": {},
   "source": [
    "## Usage\n",
    "\n",
    "### How to load the package in spaCy pipeline"
   ]
  },
  {
   "cell_type": "code",
   "execution_count": 1,
   "metadata": {},
   "outputs": [
    {
     "name": "stdout",
     "output_type": "stream",
     "text": [
      "['tagger', 'parser', 'ner', 'spaCyTextBlob']\n"
     ]
    }
   ],
   "source": [
    "import spacy\n",
    "from spacytextblob.textblob import SpacyTextBlob\n",
    "\n",
    "nlp = spacy.load('en_core_web_sm')\n",
    "spacy_text_blob = SpacyTextBlob()\n",
    "nlp.add_pipe(spacy_text_blob)\n",
    "\n",
    "# pipeline contains component name\n",
    "print(nlp.pipe_names) \n"
   ]
  },
  {
   "cell_type": "markdown",
   "metadata": {},
   "source": [
    "### How to use the pipeline\n",
    "\n",
    "By adding `SpacyTextBlob` into the pipeline sentiment analysis is perofmed on the doc everytime you call `nlp`."
   ]
  },
  {
   "cell_type": "code",
   "execution_count": 2,
   "metadata": {},
   "outputs": [
    {
     "name": "stdout",
     "output_type": "stream",
     "text": [
      "Polarity: -1.0\n",
      "Sujectivity: 1.0\n",
      "Assessments: [(['really', 'horrible'], -1.0, 1.0, None), (['worst', '!'], -1.0, 1.0, None)]\n"
     ]
    }
   ],
   "source": [
    "text = \"I had a really horrible day. It was the worst day ever!\"\n",
    "doc = nlp(text)\n",
    "print('Polarity:', doc._.polarity)\n",
    "print('Sujectivity:', doc._.subjectivity)\n",
    "print('Assessments:', doc._.assessments)"
   ]
  },
  {
   "cell_type": "code",
   "execution_count": 3,
   "metadata": {},
   "outputs": [
    {
     "name": "stdout",
     "output_type": "stream",
     "text": [
      "Polarity: 0.55\n",
      "Sujectivity: 0.65\n",
      "Assessments: [(['wow'], 0.1, 1.0, None), (['best', '!'], 1.0, 0.3, None)]\n"
     ]
    }
   ],
   "source": [
    "text = \"Wow I had just the best day ever today!\"\n",
    "doc = nlp(text)\n",
    "print('Polarity:', doc._.polarity)\n",
    "print('Sujectivity:', doc._.subjectivity)\n",
    "print('Assessments:', doc._.assessments)"
   ]
  },
  {
   "cell_type": "markdown",
   "metadata": {},
   "source": [
    "## API\n",
    "\n",
    "To make the usage simpler spacy provides custom extensions which a library can use. This makes it easier for the user to get the desired data. The below tables summaries the extensions.\n",
    "\n",
    "### `spacy.Doc` extensions\n",
    "\n",
    "\n",
    "| Extension | Type | Description | Default |\n",
    "|-----------|------|-------------|---------|\n",
    "| doc._.polarity | `Float` | The polarity of the document. The polarity score is a float within the range [-1.0, 1.0]. | `None` |\n",
    "| doc._.sujectivity | `Float` | The subjectivity of the document. The subjectivity is a float within the range [0.0, 1.0] where 0.0 is very objective and 1.0 is very subjective. | `None` |\n",
    "| doc._.assessments | `tuple` | Return a tuple of form (polarity, subjectivity, assessments ) where polarity is a float within the range [-1.0, 1.0], subjectivity is a float within the range [0.0, 1.0] where 0.0 is very objective and 1.0 is very subjective, and assessments is a list of polarity and subjectivity scores for the assessed tokens. | `None` |\n",
    "\n",
    "\n"
   ]
  },
  {
   "cell_type": "markdown",
   "metadata": {},
   "source": [
    "## Reference and Attribution\n",
    "\n",
    "- TextBlob\n",
    "    - [https://github.com/sloria/TextBlob](https://github.com/sloria/TextBlob)\n",
    "    - [https://textblob.readthedocs.io/en/latest/](https://textblob.readthedocs.io/en/latest/)\n",
    "- negspaCy (for inpiration in writing pipeline and organizing repo)\n",
    "    - [https://github.com/jenojp/negspacy](https://github.com/jenojp/negspacy)\n",
    "- spaCy custom components\n",
    "    - [https://spacy.io/usage/processing-pipelines#custom-components](https://spacy.io/usage/processing-pipelines#custom-components)"
   ]
  }
 ],
 "metadata": {
  "kernelspec": {
   "display_name": "Python 3",
   "language": "python",
   "name": "python3"
  },
  "language_info": {
   "codemirror_mode": {
    "name": "ipython",
    "version": 3
   },
   "file_extension": ".py",
   "mimetype": "text/x-python",
   "name": "python",
   "nbconvert_exporter": "python",
   "pygments_lexer": "ipython3",
   "version": "3.8.5"
  }
 },
 "nbformat": 4,
 "nbformat_minor": 4
}
